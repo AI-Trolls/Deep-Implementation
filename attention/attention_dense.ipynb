{
 "cells": [
  {
   "cell_type": "markdown",
   "metadata": {},
   "source": [
    "# Attention implementation for Dense Layer in Keras v2\n",
    "\n",
    "reference: https://github.com/philipperemy/keras-attention-mechanism"
   ]
  },
  {
   "cell_type": "code",
   "execution_count": 206,
   "metadata": {},
   "outputs": [],
   "source": [
    "import numpy as np\n",
    "import keras\n",
    "from keras.layers import Input, multiply #, Dense, merge\n",
    "# from keras.models import *"
   ]
  },
  {
   "cell_type": "code",
   "execution_count": 207,
   "metadata": {},
   "outputs": [],
   "source": [
    "np.random.seed(1337)"
   ]
  },
  {
   "cell_type": "code",
   "execution_count": 208,
   "metadata": {},
   "outputs": [],
   "source": [
    "#configuration \n",
    "\n",
    "input_dim = 32"
   ]
  },
  {
   "cell_type": "code",
   "execution_count": 230,
   "metadata": {},
   "outputs": [],
   "source": [
    "def build_model():\n",
    "    _inputs = Input(shape=(input_dim,)) \n",
    "    output_dim = input_dim\n",
    "    \n",
    "    # Attention 부분 시작-\n",
    "    \n",
    "    # input_shape을 선언해주지 않으니 error\n",
    "    # attention_probs = Dense(input_dim, activation='softmax', name='attention_vec')(inputs)\n",
    "    _attention_probs = Dense(output_dim, activation='softmax', input_shape=(input_dim, ), name='attention_vec')(_inputs)\n",
    "\n",
    "    # mode='mul'은 deprecated and removed -> keras.layers.merge, add를 사용할 것!\n",
    "    # attention_mul = merge([inputs, attention_probs], output_shape=32, name='attention_mul', mode='mul')\n",
    "    _attention_mul = multiply([_inputs, _attention_probs])\n",
    "    \n",
    "    # Attention 부분 끝-\n",
    "    \n",
    "    _attention_mul = Dense(64)(_attention_mul)\n",
    "    _output = Dense(1, activation='sigmoid')(_attention_mul)\n",
    "    \n",
    "    # 'UserWarning: Update your `Model` call to the Keras 2 API: `Model(outputs=Tensor(\"de..., inputs=[<tf.Tenso...)`'이 떠서 Keras 2에 맞게 수정...\n",
    "    # _model = Model(input=[_inputs], output=_output)\n",
    "    _model = Model(inputs=[_inputs], outputs=_output)\n",
    "                                                                                    \n",
    "    return _model"
   ]
  },
  {
   "cell_type": "code",
   "execution_count": 231,
   "metadata": {},
   "outputs": [],
   "source": [
    "def get_data(n, input_dim, attention_column=2):\n",
    "    \"\"\"\n",
    "    n: the number of samples to retrieve.\n",
    "    input_dim: the number of dimensions of each element in the series.\n",
    "    attention_column: the column linked to the target. Everything else is purely random.\n",
    "    return [model inputs, model targets]\n",
    "    \"\"\"\n",
    "    x = np.random.standard_normal(size=(n, input_dim)) # mean=0, stdev=1\n",
    "    y = np.random.randint(low=0, high=2, size=(n, 1)) # 0 or 1\n",
    "    x[:, attention_column] = y[:, 0] # 특정 attention_column에 대해서만 target 값(y)를 대입\n",
    "    return x, y"
   ]
  },
  {
   "cell_type": "code",
   "execution_count": 232,
   "metadata": {},
   "outputs": [
    {
     "name": "stdout",
     "output_type": "stream",
     "text": [
      "__________________________________________________________________________________________________\n",
      "Layer (type)                    Output Shape         Param #     Connected to                     \n",
      "==================================================================================================\n",
      "input_31 (InputLayer)           (None, 32)           0                                            \n",
      "__________________________________________________________________________________________________\n",
      "attention_vec (Dense)           (None, 32)           1056        input_31[0][0]                   \n",
      "__________________________________________________________________________________________________\n",
      "multiply_26 (Multiply)          (None, 32)           0           input_31[0][0]                   \n",
      "                                                                 attention_vec[0][0]              \n",
      "__________________________________________________________________________________________________\n",
      "dense_53 (Dense)                (None, 64)           2112        multiply_26[0][0]                \n",
      "__________________________________________________________________________________________________\n",
      "dense_54 (Dense)                (None, 1)            65          dense_53[0][0]                   \n",
      "==================================================================================================\n",
      "Total params: 3,233\n",
      "Trainable params: 3,233\n",
      "Non-trainable params: 0\n",
      "__________________________________________________________________________________________________\n",
      "None\n"
     ]
    }
   ],
   "source": [
    "N = 10000\n",
    "inputs, outputs = get_data(N, input_dim)\n",
    "   \n",
    "m = build_model()\n",
    "m.compile(optimizer='adam', loss='binary_crossentropy', metrics=['accuracy'])\n",
    "print (m.summary())"
   ]
  },
  {
   "cell_type": "code",
   "execution_count": 233,
   "metadata": {},
   "outputs": [
    {
     "name": "stdout",
     "output_type": "stream",
     "text": [
      "Train on 5000 samples, validate on 5000 samples\n",
      "Epoch 1/20\n",
      "5000/5000 [==============================] - 2s 317us/step - loss: 0.6895 - acc: 0.5454 - val_loss: 0.6789 - val_acc: 0.6442\n",
      "Epoch 2/20\n",
      "5000/5000 [==============================] - 0s 59us/step - loss: 0.6559 - acc: 0.7368 - val_loss: 0.6230 - val_acc: 0.7704\n",
      "Epoch 3/20\n",
      "5000/5000 [==============================] - 0s 55us/step - loss: 0.5686 - acc: 0.8006 - val_loss: 0.5195 - val_acc: 0.8000\n",
      "Epoch 4/20\n",
      "5000/5000 [==============================] - 0s 54us/step - loss: 0.4553 - acc: 0.8228 - val_loss: 0.4143 - val_acc: 0.8374\n",
      "Epoch 5/20\n",
      "5000/5000 [==============================] - 0s 56us/step - loss: 0.3429 - acc: 0.8814 - val_loss: 0.3073 - val_acc: 0.8806\n",
      "Epoch 6/20\n",
      "5000/5000 [==============================] - 0s 53us/step - loss: 0.2304 - acc: 0.9294 - val_loss: 0.1919 - val_acc: 0.9436\n",
      "Epoch 7/20\n",
      "5000/5000 [==============================] - 0s 54us/step - loss: 0.1253 - acc: 0.9716 - val_loss: 0.0927 - val_acc: 0.9802\n",
      "Epoch 8/20\n",
      "5000/5000 [==============================] - 0s 54us/step - loss: 0.0521 - acc: 0.9952 - val_loss: 0.0374 - val_acc: 0.9984\n",
      "Epoch 9/20\n",
      "5000/5000 [==============================] - 0s 57us/step - loss: 0.0204 - acc: 0.9994 - val_loss: 0.0164 - val_acc: 0.9994\n",
      "Epoch 10/20\n",
      "5000/5000 [==============================] - 0s 57us/step - loss: 0.0094 - acc: 1.0000 - val_loss: 0.0088 - val_acc: 0.9998\n",
      "Epoch 11/20\n",
      "5000/5000 [==============================] - 0s 59us/step - loss: 0.0052 - acc: 1.0000 - val_loss: 0.0054 - val_acc: 0.9998\n",
      "Epoch 12/20\n",
      "5000/5000 [==============================] - 0s 56us/step - loss: 0.0033 - acc: 1.0000 - val_loss: 0.0037 - val_acc: 1.0000\n",
      "Epoch 13/20\n",
      "5000/5000 [==============================] - 0s 61us/step - loss: 0.0023 - acc: 1.0000 - val_loss: 0.0027 - val_acc: 1.0000\n",
      "Epoch 14/20\n",
      "5000/5000 [==============================] - 0s 61us/step - loss: 0.0017 - acc: 1.0000 - val_loss: 0.0020 - val_acc: 1.0000\n",
      "Epoch 15/20\n",
      "5000/5000 [==============================] - 0s 53us/step - loss: 0.0013 - acc: 1.0000 - val_loss: 0.0016 - val_acc: 1.0000\n",
      "Epoch 16/20\n",
      "5000/5000 [==============================] - 0s 51us/step - loss: 0.0011 - acc: 1.0000 - val_loss: 0.0013 - val_acc: 1.0000\n",
      "Epoch 17/20\n",
      "5000/5000 [==============================] - 0s 55us/step - loss: 8.8659e-04 - acc: 1.0000 - val_loss: 0.0011 - val_acc: 1.0000\n",
      "Epoch 18/20\n",
      "5000/5000 [==============================] - 0s 56us/step - loss: 7.3922e-04 - acc: 1.0000 - val_loss: 9.0923e-04 - val_acc: 1.0000\n",
      "Epoch 19/20\n",
      "5000/5000 [==============================] - 0s 55us/step - loss: 6.2813e-04 - acc: 1.0000 - val_loss: 7.7871e-04 - val_acc: 1.0000\n",
      "Epoch 20/20\n",
      "5000/5000 [==============================] - 0s 63us/step - loss: 5.4108e-04 - acc: 1.0000 - val_loss: 6.7238e-04 - val_acc: 1.0000\n"
     ]
    },
    {
     "data": {
      "text/plain": [
       "<keras.callbacks.History at 0x7f84c017e198>"
      ]
     },
     "execution_count": 233,
     "metadata": {},
     "output_type": "execute_result"
    }
   ],
   "source": [
    "m.fit([inputs], outputs, epochs=20, batch_size=64, validation_split=0.5)"
   ]
  },
  {
   "cell_type": "code",
   "execution_count": 234,
   "metadata": {},
   "outputs": [],
   "source": [
    "def get_activations(model, inputs, print_shape_only=False, layer_name=None):\n",
    "    print('----- activations -----')\n",
    "    activations = []\n",
    "    input_shape = model.input\n",
    "\n",
    "    if layer_name is None:\n",
    "        outputs = [layer.output for layer in model.layers]\n",
    "    else:\n",
    "        outputs = [layer.output for layer in model.layers if layer.name == layer_name] # all layer outputs\n",
    "\n",
    "    funcs = [K.function([input_shape] + [K.learning_phase()], [out]) for out in outputs] # evaluation functions\n",
    "    layer_outputs = [func([inputs, 1.])[0] for func in funcs]\n",
    "    for layer_activations in layer_outputs:\n",
    "        activations.append(layer_activations)\n",
    "        if print_shape_only:\n",
    "            print(layer_activations.shape)\n",
    "        else:\n",
    "            print(layer_activations)\n",
    "    return activations"
   ]
  },
  {
   "cell_type": "code",
   "execution_count": 235,
   "metadata": {},
   "outputs": [
    {
     "name": "stdout",
     "output_type": "stream",
     "text": [
      "----- activations -----\n",
      "(1, 32)\n",
      "attention = [0.01519593 0.03007139 0.13851047 0.02702685 0.00683411 0.00981233\n",
      " 0.02635284 0.01809814 0.05839014 0.01214441 0.02498029 0.02006565\n",
      " 0.02213136 0.04871368 0.02035668 0.05531898 0.01904322 0.0520954\n",
      " 0.05372514 0.03133894 0.008928   0.04980753 0.04495243 0.01071598\n",
      " 0.02501199 0.00762573 0.02722435 0.02278932 0.05651351 0.02225222\n",
      " 0.00590454 0.02806845]\n"
     ]
    }
   ],
   "source": [
    "testing_inputs, testing_outputs = get_data(1, input_dim)\n",
    "\n",
    "# Attention vector corresponds to the second matrix.\n",
    "# The first one is the Inputs output.\n",
    "attention_vector = get_activations(m, testing_inputs, print_shape_only=True, layer_name='attention_vec')[0].flatten()\n",
    "\n",
    "print('attention =', attention_vector)"
   ]
  },
  {
   "cell_type": "code",
   "execution_count": 236,
   "metadata": {},
   "outputs": [],
   "source": [
    "from matplotlib import pyplot as plt\n",
    "import pandas as pd "
   ]
  },
  {
   "cell_type": "code",
   "execution_count": 237,
   "metadata": {},
   "outputs": [
    {
     "data": {
      "text/plain": [
       "Text(0, 0.5, 'attention value')"
      ]
     },
     "execution_count": 237,
     "metadata": {},
     "output_type": "execute_result"
    },
    {
     "data": {
      "image/png": "[encoded data removed]",
      "text/plain": [
       "<Figure size 1440x360 with 1 Axes>"
      ]
     },
     "metadata": {
      "needs_background": "light"
     },
     "output_type": "display_data"
    }
   ],
   "source": [
    "x = np.linspace(0, 31, num=32)\n",
    "\n",
    "s = pd.Series(attention_vector, x)\n",
    "\n",
    "s.plot.bar(figsize=(20,5))\n",
    "plt.title('attention vector')\n",
    "plt.xlabel('attention index')\n",
    "plt.ylabel('attention value')"
   ]
  },
  {
   "cell_type": "code",
   "execution_count": null,
   "metadata": {},
   "outputs": [],
   "source": []
  }
 ],
 "metadata": {
  "kernelspec": {
   "display_name": "Python 3",
   "language": "python",
   "name": "python3"
  },
  "language_info": {
   "codemirror_mode": {
    "name": "ipython",
    "version": 3
   },
   "file_extension": ".py",
   "mimetype": "text/x-python",
   "name": "python",
   "nbconvert_exporter": "python",
   "pygments_lexer": "ipython3",
   "version": "3.5.6"
  }
 },
 "nbformat": 4,
 "nbformat_minor": 2
}
