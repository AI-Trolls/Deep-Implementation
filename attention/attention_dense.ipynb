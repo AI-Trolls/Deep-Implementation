{
 "cells": [
  {
   "cell_type": "markdown",
   "metadata": {},
   "source": [
    "# Attention implementation for Dense Layer in Keras v2\n",
    "\n",
    "reference: https://github.com/philipperemy/keras-attention-mechanism"
   ]
  },
  {
   "cell_type": "code",
   "execution_count": 122,
   "metadata": {},
   "outputs": [],
   "source": [
    "import numpy as np\n",
    "import keras\n",
    "from keras.layers import Input, multiply #, Dense, merge\n",
    "# from keras.models import *"
   ]
  },
  {
   "cell_type": "code",
   "execution_count": 123,
   "metadata": {},
   "outputs": [],
   "source": [
    "np.random.seed(1337)"
   ]
  },
  {
   "cell_type": "code",
   "execution_count": 124,
   "metadata": {},
   "outputs": [],
   "source": [
    "input_dim = 32"
   ]
  },
  {
   "cell_type": "code",
   "execution_count": 133,
   "metadata": {},
   "outputs": [],
   "source": [
    "def build_model():\n",
    "    _inputs = Input(shape=(input_dim,)) \n",
    "    \n",
    "    # Attention 부분 시작-\n",
    "    \n",
    "    # input_shape을 선언해주지 않으니 error\n",
    "    # attention_probs = Dense(input_dim, activation='softmax', name='attention_vec')(inputs)\n",
    "    _attention_probs = Dense(input_dim, activation='softmax', input_shape=(input_dim, ), name='attention_vec')(_inputs)\n",
    "    \n",
    "    # mode='mul'은 deprecated and removed -> keras.layers.merge, add를 사용할 것!\n",
    "    # attention_mul = merge([inputs, attention_probs], output_shape=32, name='attention_mul', mode='mul')\n",
    "    _attention_mul = multiply([_inputs, _attention_probs])\n",
    "    \n",
    "    # Attention 부분 끝-\n",
    "    \n",
    "    _attention_mul = Dense(64)(_attention_mul)\n",
    "    _output = Dense(1, activation='sigmoid')(_attention_mul)\n",
    "    \n",
    "    # 'UserWarning: Update your `Model` call to the Keras 2 API: `Model(outputs=Tensor(\"de..., inputs=[<tf.Tenso...)`'이 떠서 Keras 2에 맞게 수정...\n",
    "    # _model = Model(input=[_inputs], output=_output)\n",
    "    _model = Model(inputs=[_inputs], outputs=_output)\n",
    "                                                                                    \n",
    "    return _model"
   ]
  },
  {
   "cell_type": "code",
   "execution_count": 134,
   "metadata": {},
   "outputs": [],
   "source": [
    "def get_data(n, input_dim, attention_column=1):\n",
    "    \"\"\"\n",
    "    n: the number of samples to retrieve.\n",
    "    input_dim: the number of dimensions of each element in the series.\n",
    "    attention_column: the column linked to the target. Everything else is purely random.\n",
    "    return [model inputs, model targets]\n",
    "    \"\"\"\n",
    "    x = np.random.standard_normal(size=(n, input_dim))\n",
    "    y = np.random.randint(low=0, high=2, size=(n, 1))\n",
    "    x[:, attention_column] = y[:, 0]\n",
    "    return x, y"
   ]
  },
  {
   "cell_type": "code",
   "execution_count": 135,
   "metadata": {},
   "outputs": [
    {
     "name": "stdout",
     "output_type": "stream",
     "text": [
      "__________________________________________________________________________________________________\n",
      "Layer (type)                    Output Shape         Param #     Connected to                     \n",
      "==================================================================================================\n",
      "input_12 (InputLayer)           (None, 32)           0                                            \n",
      "__________________________________________________________________________________________________\n",
      "attention_vec (Dense)           (None, 32)           1056        input_12[0][0]                   \n",
      "__________________________________________________________________________________________________\n",
      "multiply_7 (Multiply)           (None, 32)           0           input_12[0][0]                   \n",
      "                                                                 attention_vec[0][0]              \n",
      "__________________________________________________________________________________________________\n",
      "dense_15 (Dense)                (None, 64)           2112        multiply_7[0][0]                 \n",
      "__________________________________________________________________________________________________\n",
      "dense_16 (Dense)                (None, 1)            65          dense_15[0][0]                   \n",
      "==================================================================================================\n",
      "Total params: 3,233\n",
      "Trainable params: 3,233\n",
      "Non-trainable params: 0\n",
      "__________________________________________________________________________________________________\n",
      "None\n"
     ]
    }
   ],
   "source": [
    "N = 10000\n",
    "inputs, outputs = get_data(N, input_dim)\n",
    "   \n",
    "m = build_model()\n",
    "m.compile(optimizer='adam', loss='binary_crossentropy', metrics=['accuracy'])\n",
    "print (m.summary())"
   ]
  },
  {
   "cell_type": "code",
   "execution_count": 136,
   "metadata": {},
   "outputs": [
    {
     "name": "stdout",
     "output_type": "stream",
     "text": [
      "Train on 5000 samples, validate on 5000 samples\n",
      "Epoch 1/20\n",
      "5000/5000 [==============================] - 1s 168us/step - loss: 0.6887 - acc: 0.5510 - val_loss: 0.6800 - val_acc: 0.6328\n",
      "Epoch 2/20\n",
      "5000/5000 [==============================] - 0s 52us/step - loss: 0.6564 - acc: 0.7106 - val_loss: 0.6260 - val_acc: 0.7328\n",
      "Epoch 3/20\n",
      "5000/5000 [==============================] - 0s 52us/step - loss: 0.5693 - acc: 0.7678 - val_loss: 0.5220 - val_acc: 0.7854\n",
      "Epoch 4/20\n",
      "5000/5000 [==============================] - 0s 52us/step - loss: 0.4599 - acc: 0.8122 - val_loss: 0.4184 - val_acc: 0.8308\n",
      "Epoch 5/20\n",
      "5000/5000 [==============================] - 0s 53us/step - loss: 0.3543 - acc: 0.8668 - val_loss: 0.3073 - val_acc: 0.8852\n",
      "Epoch 6/20\n",
      "5000/5000 [==============================] - 0s 52us/step - loss: 0.2375 - acc: 0.9238 - val_loss: 0.1861 - val_acc: 0.9446\n",
      "Epoch 7/20\n",
      "5000/5000 [==============================] - 0s 50us/step - loss: 0.1226 - acc: 0.9716 - val_loss: 0.0813 - val_acc: 0.9848\n",
      "Epoch 8/20\n",
      "5000/5000 [==============================] - 0s 46us/step - loss: 0.0457 - acc: 0.9958 - val_loss: 0.0285 - val_acc: 0.9982\n",
      "Epoch 9/20\n",
      "5000/5000 [==============================] - 0s 47us/step - loss: 0.0163 - acc: 1.0000 - val_loss: 0.0120 - val_acc: 0.9992\n",
      "Epoch 10/20\n",
      "5000/5000 [==============================] - 0s 51us/step - loss: 0.0075 - acc: 1.0000 - val_loss: 0.0065 - val_acc: 0.9996\n",
      "Epoch 11/20\n",
      "5000/5000 [==============================] - 0s 49us/step - loss: 0.0043 - acc: 1.0000 - val_loss: 0.0041 - val_acc: 1.0000\n",
      "Epoch 12/20\n",
      "5000/5000 [==============================] - 0s 53us/step - loss: 0.0028 - acc: 1.0000 - val_loss: 0.0029 - val_acc: 1.0000\n",
      "Epoch 13/20\n",
      "5000/5000 [==============================] - 0s 55us/step - loss: 0.0020 - acc: 1.0000 - val_loss: 0.0022 - val_acc: 1.0000\n",
      "Epoch 14/20\n",
      "5000/5000 [==============================] - 0s 55us/step - loss: 0.0015 - acc: 1.0000 - val_loss: 0.0017 - val_acc: 1.0000\n",
      "Epoch 15/20\n",
      "5000/5000 [==============================] - 0s 57us/step - loss: 0.0012 - acc: 1.0000 - val_loss: 0.0014 - val_acc: 1.0000\n",
      "Epoch 16/20\n",
      "5000/5000 [==============================] - 0s 54us/step - loss: 9.7791e-04 - acc: 1.0000 - val_loss: 0.0011 - val_acc: 1.0000\n",
      "Epoch 17/20\n",
      "5000/5000 [==============================] - 0s 55us/step - loss: 8.1551e-04 - acc: 1.0000 - val_loss: 9.4616e-04 - val_acc: 1.0000\n",
      "Epoch 18/20\n",
      "5000/5000 [==============================] - 0s 51us/step - loss: 6.9150e-04 - acc: 1.0000 - val_loss: 8.0656e-04 - val_acc: 1.0000\n",
      "Epoch 19/20\n",
      "5000/5000 [==============================] - 0s 50us/step - loss: 5.9555e-04 - acc: 1.0000 - val_loss: 6.9945e-04 - val_acc: 1.0000\n",
      "Epoch 20/20\n",
      "5000/5000 [==============================] - 0s 52us/step - loss: 5.1903e-04 - acc: 1.0000 - val_loss: 6.1083e-04 - val_acc: 1.0000\n"
     ]
    },
    {
     "data": {
      "text/plain": [
       "<keras.callbacks.History at 0x7f850c1d2d68>"
      ]
     },
     "execution_count": 136,
     "metadata": {},
     "output_type": "execute_result"
    }
   ],
   "source": [
    "m.fit([inputs], outputs, epochs=20, batch_size=64, validation_split=0.5)"
   ]
  },
  {
   "cell_type": "code",
   "execution_count": 137,
   "metadata": {},
   "outputs": [],
   "source": [
    "def get_activations(model, inputs, print_shape_only=False, layer_name=None):\n",
    "    print('----- activations -----')\n",
    "    activations = []\n",
    "    input_shape = model.input\n",
    "\n",
    "    if layer_name is None:\n",
    "        outputs = [layer.output for layer in model.layers]\n",
    "    else:\n",
    "        outputs = [layer.output for layer in model.layers if layer.name == layer_name] # all layer outputs\n",
    "\n",
    "    funcs = [K.function([input_shape] + [K.learning_phase()], [out]) for out in outputs] # evaluation functions\n",
    "    layer_outputs = [func([inputs, 1.])[0] for func in funcs]\n",
    "    for layer_activations in layer_outputs:\n",
    "        activations.append(layer_activations)\n",
    "        if print_shape_only:\n",
    "            print(layer_activations.shape)\n",
    "        else:\n",
    "            print(layer_activations)\n",
    "    return activations"
   ]
  },
  {
   "cell_type": "code",
   "execution_count": 138,
   "metadata": {},
   "outputs": [
    {
     "name": "stdout",
     "output_type": "stream",
     "text": [
      "----- activations -----\n",
      "(1, 32)\n",
      "attention = [0.01583724 0.5045992  0.00727931 0.00746544 0.0085776  0.01675502\n",
      " 0.01418537 0.00656918 0.01102884 0.02201247 0.02599609 0.0083708\n",
      " 0.02983425 0.01800704 0.0235524  0.01063944 0.02355327 0.03792499\n",
      " 0.01274627 0.00963361 0.00548118 0.00812193 0.05297169 0.0094198\n",
      " 0.01523219 0.01157473 0.01067069 0.01377182 0.00812864 0.02885219\n",
      " 0.01188976 0.00931758]\n"
     ]
    }
   ],
   "source": [
    "testing_inputs, testing_outputs = get_data(1, input_dim)\n",
    "\n",
    "# Attention vector corresponds to the second matrix.\n",
    "# The first one is the Inputs output.\n",
    "attention_vector = get_activations(m, testing_inputs, print_shape_only=True, layer_name='attention_vec')[0].flatten()\n",
    "\n",
    "print('attention =', attention_vector)"
   ]
  },
  {
   "cell_type": "code",
   "execution_count": 139,
   "metadata": {},
   "outputs": [],
   "source": [
    "from matplotlib import pyplot as plt\n",
    "import pandas as pd "
   ]
  },
  {
   "cell_type": "code",
   "execution_count": 140,
   "metadata": {},
   "outputs": [
    {
     "data": {
      "text/plain": [
       "Text(0, 0.5, 'attention value')"
      ]
     },
     "execution_count": 140,
     "metadata": {},
     "output_type": "execute_result"
    },
    {
     "data": {
      "image/png": "[encoded data removed]",
      "text/plain": [
       "<Figure size 1440x360 with 1 Axes>"
      ]
     },
     "metadata": {
      "needs_background": "light"
     },
     "output_type": "display_data"
    }
   ],
   "source": [
    "x = np.linspace(0, 31, num=32)\n",
    "\n",
    "s = pd.Series(attention_vector, x)\n",
    "\n",
    "s.plot.bar(figsize=(20,5))\n",
    "plt.title('attention vector')\n",
    "plt.xlabel('attention index')\n",
    "plt.ylabel('attention value')"
   ]
  }
 ],
 "metadata": {
  "kernelspec": {
   "display_name": "Python 3",
   "language": "python",
   "name": "python3"
  },
  "language_info": {
   "codemirror_mode": {
    "name": "ipython",
    "version": 3
   },
   "file_extension": ".py",
   "mimetype": "text/x-python",
   "name": "python",
   "nbconvert_exporter": "python",
   "pygments_lexer": "ipython3",
   "version": "3.5.6"
  }
 },
 "nbformat": 4,
 "nbformat_minor": 2
}
