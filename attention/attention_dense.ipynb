{
 "cells": [
  {
   "cell_type": "markdown",
   "metadata": {},
   "source": [
    "# Attention implementation for Dense Layer in Keras v2\n",
    "\n",
    "reference: https://github.com/philipperemy/keras-attention-mechanism"
   ]
  },
  {
   "cell_type": "code",
   "execution_count": 37,
   "metadata": {},
   "outputs": [],
   "source": [
    "import numpy as np\n",
    "import keras\n",
    "from keras.layers import Input, multiply #, Dense, merge\n",
    "# from keras.models import *"
   ]
  },
  {
   "cell_type": "code",
   "execution_count": 38,
   "metadata": {},
   "outputs": [],
   "source": [
    "np.random.seed(1337)"
   ]
  },
  {
   "cell_type": "code",
   "execution_count": 39,
   "metadata": {},
   "outputs": [],
   "source": [
    "input_dim = 32"
   ]
  },
  {
   "cell_type": "code",
   "execution_count": 43,
   "metadata": {},
   "outputs": [],
   "source": [
    "def build_model():\n",
    "    _inputs = Input(shape=(input_dim,)) \n",
    "    \n",
    "    # Attention 부분 시작-\n",
    "    \n",
    "    # attention_probs = Dense(input_dim, activation='softmax', name='attention_vec')(inputs)\n",
    "    # input_shape을 선언해주지 않으니 error\n",
    "    _attention_probs = Dense(input_dim, activation='softmax', input_shape=(input_dim, ), name='attention_vec')(_inputs)\n",
    "    \n",
    "    # attention_mul = merge([inputs, attention_probs], output_shape=32, name='attention_mul', mode='mul')\n",
    "    # mode='mul'은 deprecated and removed -> keras.layers.merge, add를 사용할 것!\n",
    "    _attention_mul = multiply([_inputs, _attention_probs])\n",
    "    \n",
    "    # Attention 부분 끝-\n",
    "    \n",
    "    _attention_mul = Dense(64)(_attention_mul)\n",
    "    _output = Dense(1, activation='sigmoid')(_attention_mul)\n",
    "    \n",
    "    # _model = Model(input=[_inputs], output=_output)\n",
    "    # 'UserWarning: Update your `Model` call to the Keras 2 API: `Model(outputs=Tensor(\"de..., inputs=[<tf.Tenso...)`'이 떠서 Keras 2에 맞게 수정...\n",
    "    _model = Model(inputs=[_inputs], outputs=_output)\n",
    "                                                                                    \n",
    "    return _model"
   ]
  },
  {
   "cell_type": "code",
   "execution_count": 44,
   "metadata": {},
   "outputs": [],
   "source": [
    "def get_data(n, input_dim, attention_column=1):\n",
    "    \"\"\"\n",
    "    n: the number of samples to retrieve.\n",
    "    input_dim: the number of dimensions of each element in the series.\n",
    "    attention_column: the column linked to the target. Everything else is purely random.\n",
    "    return [model inputs, model targets]\n",
    "    \"\"\"\n",
    "    x = np.random.standard_normal(size=(n, input_dim))\n",
    "    y = np.random.randint(low=0, high=2, size=(n, 1))\n",
    "    x[:, attention_column] = y[:, 0]\n",
    "    return x, y"
   ]
  },
  {
   "cell_type": "code",
   "execution_count": 48,
   "metadata": {},
   "outputs": [
    {
     "name": "stdout",
     "output_type": "stream",
     "text": [
      "__________________________________________________________________________________________________\n",
      "Layer (type)                    Output Shape         Param #     Connected to                     \n",
      "==================================================================================================\n",
      "input_10 (InputLayer)           (None, 32)           0                                            \n",
      "__________________________________________________________________________________________________\n",
      "attention_vec (Dense)           (None, 32)           1056        input_10[0][0]                   \n",
      "__________________________________________________________________________________________________\n",
      "multiply_5 (Multiply)           (None, 32)           0           input_10[0][0]                   \n",
      "                                                                 attention_vec[0][0]              \n",
      "__________________________________________________________________________________________________\n",
      "dense_11 (Dense)                (None, 64)           2112        multiply_5[0][0]                 \n",
      "__________________________________________________________________________________________________\n",
      "dense_12 (Dense)                (None, 1)            65          dense_11[0][0]                   \n",
      "==================================================================================================\n",
      "Total params: 3,233\n",
      "Trainable params: 3,233\n",
      "Non-trainable params: 0\n",
      "__________________________________________________________________________________________________\n",
      "None\n"
     ]
    }
   ],
   "source": [
    "N = 10000\n",
    "inputs, outputs = get_data(N, input_dim)\n",
    "   \n",
    "m = build_model()\n",
    "m.compile(optimizer='adam', loss='binary_crossentropy', metrics=['accuracy'])\n",
    "print (m.summary())"
   ]
  },
  {
   "cell_type": "code",
   "execution_count": 49,
   "metadata": {},
   "outputs": [
    {
     "name": "stdout",
     "output_type": "stream",
     "text": [
      "Train on 5000 samples, validate on 5000 samples\n",
      "Epoch 1/20\n",
      "5000/5000 [==============================] - 1s 181us/step - loss: 0.6846 - acc: 0.6142 - val_loss: 0.6742 - val_acc: 0.6646\n",
      "Epoch 2/20\n",
      "5000/5000 [==============================] - 0s 54us/step - loss: 0.6472 - acc: 0.7252 - val_loss: 0.6140 - val_acc: 0.7746\n",
      "Epoch 3/20\n",
      "5000/5000 [==============================] - 0s 51us/step - loss: 0.5598 - acc: 0.7976 - val_loss: 0.5152 - val_acc: 0.7704\n",
      "Epoch 4/20\n",
      "5000/5000 [==============================] - 0s 54us/step - loss: 0.4515 - acc: 0.8220 - val_loss: 0.4124 - val_acc: 0.8338\n",
      "Epoch 5/20\n",
      "5000/5000 [==============================] - 0s 54us/step - loss: 0.3462 - acc: 0.8704 - val_loss: 0.3081 - val_acc: 0.8852\n",
      "Epoch 6/20\n",
      "5000/5000 [==============================] - 0s 55us/step - loss: 0.2382 - acc: 0.9196 - val_loss: 0.1962 - val_acc: 0.9422\n",
      "Epoch 7/20\n",
      "5000/5000 [==============================] - 0s 50us/step - loss: 0.1329 - acc: 0.9680 - val_loss: 0.0972 - val_acc: 0.9804\n",
      "Epoch 8/20\n",
      "5000/5000 [==============================] - 0s 46us/step - loss: 0.0561 - acc: 0.9932 - val_loss: 0.0396 - val_acc: 0.9952\n",
      "Epoch 9/20\n",
      "5000/5000 [==============================] - 0s 53us/step - loss: 0.0211 - acc: 0.9992 - val_loss: 0.0173 - val_acc: 0.9988\n",
      "Epoch 10/20\n",
      "5000/5000 [==============================] - 0s 53us/step - loss: 0.0092 - acc: 1.0000 - val_loss: 0.0093 - val_acc: 0.9996\n",
      "Epoch 11/20\n",
      "5000/5000 [==============================] - 0s 47us/step - loss: 0.0050 - acc: 1.0000 - val_loss: 0.0059 - val_acc: 0.9996\n",
      "Epoch 12/20\n",
      "5000/5000 [==============================] - 0s 50us/step - loss: 0.0031 - acc: 1.0000 - val_loss: 0.0041 - val_acc: 0.9996\n",
      "Epoch 13/20\n",
      "5000/5000 [==============================] - 0s 53us/step - loss: 0.0022 - acc: 1.0000 - val_loss: 0.0031 - val_acc: 0.9996\n",
      "Epoch 14/20\n",
      "5000/5000 [==============================] - 0s 51us/step - loss: 0.0016 - acc: 1.0000 - val_loss: 0.0024 - val_acc: 0.9998\n",
      "Epoch 15/20\n",
      "5000/5000 [==============================] - 0s 51us/step - loss: 0.0012 - acc: 1.0000 - val_loss: 0.0019 - val_acc: 0.9998\n",
      "Epoch 16/20\n",
      "5000/5000 [==============================] - 0s 58us/step - loss: 9.9097e-04 - acc: 1.0000 - val_loss: 0.0016 - val_acc: 0.9998\n",
      "Epoch 17/20\n",
      "5000/5000 [==============================] - 0s 55us/step - loss: 8.1396e-04 - acc: 1.0000 - val_loss: 0.0013 - val_acc: 0.9998\n",
      "Epoch 18/20\n",
      "5000/5000 [==============================] - 0s 43us/step - loss: 6.8305e-04 - acc: 1.0000 - val_loss: 0.0011 - val_acc: 0.9998\n",
      "Epoch 19/20\n",
      "5000/5000 [==============================] - 0s 54us/step - loss: 5.8208e-04 - acc: 1.0000 - val_loss: 9.9284e-04 - val_acc: 0.9998\n",
      "Epoch 20/20\n",
      "5000/5000 [==============================] - 0s 50us/step - loss: 5.0292e-04 - acc: 1.0000 - val_loss: 8.6648e-04 - val_acc: 0.9998\n"
     ]
    },
    {
     "data": {
      "text/plain": [
       "<keras.callbacks.History at 0x7f85f5c67c88>"
      ]
     },
     "execution_count": 49,
     "metadata": {},
     "output_type": "execute_result"
    }
   ],
   "source": [
    "m.fit([inputs], outputs, epochs=20, batch_size=64, validation_split=0.5)"
   ]
  },
  {
   "cell_type": "code",
   "execution_count": 71,
   "metadata": {},
   "outputs": [],
   "source": [
    "def get_activations(model, inputs, print_shape_only=False, layer_name=None):\n",
    "    print('----- activations -----')\n",
    "    activations = []\n",
    "    input_shape = model.input\n",
    "\n",
    "    if layer_name is None:\n",
    "        outputs = [layer.output for layer in model.layers]\n",
    "    else:\n",
    "        outputs = [layer.output for layer in model.layers if layer.name == layer_name] # all layer outputs\n",
    "\n",
    "    funcs = [K.function([input_shape] + [K.learning_phase()], [out]) for out in outputs] # evaluation functions\n",
    "    layer_outputs = [func([inputs, 1.])[0] for func in funcs]\n",
    "    for layer_activations in layer_outputs:\n",
    "        activations.append(layer_activations)\n",
    "        if print_shape_only:\n",
    "            print(layer_activations.shape)\n",
    "        else:\n",
    "            print(layer_activations)\n",
    "    return activations"
   ]
  },
  {
   "cell_type": "code",
   "execution_count": 76,
   "metadata": {},
   "outputs": [
    {
     "name": "stdout",
     "output_type": "stream",
     "text": [
      "----- activations -----\n",
      "(1, 32)\n",
      "attention = [0.01561181 0.48209226 0.01694034 0.01759651 0.01524514 0.01651226\n",
      " 0.03915219 0.01921966 0.04387974 0.01225476 0.01632706 0.0137192\n",
      " 0.01716046 0.01732742 0.0245535  0.02061529 0.01161353 0.00935418\n",
      " 0.01072566 0.01354322 0.02477677 0.01679133 0.02193005 0.01080894\n",
      " 0.00913156 0.01350175 0.01253633 0.00852914 0.01153062 0.00868106\n",
      " 0.01241545 0.01592278]\n"
     ]
    }
   ],
   "source": [
    "testing_inputs, testing_outputs = get_data(1, input_dim)\n",
    "\n",
    "# Attention vector corresponds to the second matrix.\n",
    "# The first one is the Inputs output.\n",
    "attention_vector = get_activations(m, testing_inputs, print_shape_only=True, layer_name='attention_vec')[0].flatten()\n",
    "\n",
    "print('attention =', attention_vector)"
   ]
  },
  {
   "cell_type": "code",
   "execution_count": 104,
   "metadata": {},
   "outputs": [],
   "source": [
    "from matplotlib import pyplot as plt\n",
    "import pandas as pd "
   ]
  },
  {
   "cell_type": "code",
   "execution_count": 121,
   "metadata": {},
   "outputs": [
    {
     "data": {
      "text/plain": [
       "Text(0, 0.5, 'attention value')"
      ]
     },
     "execution_count": 121,
     "metadata": {},
     "output_type": "execute_result"
    },
    {
     "data": {
      "image/png": "[encoded data removed]",
      "text/plain": [
       "<Figure size 1440x360 with 1 Axes>"
      ]
     },
     "metadata": {
      "needs_background": "light"
     },
     "output_type": "display_data"
    }
   ],
   "source": [
    "x = np.linspace(0, 31, num=32)\n",
    "\n",
    "s = pd.Series(attention_vector, x)\n",
    "\n",
    "s.plot.bar(figsize=(20,5))\n",
    "plt.title('attention vector')\n",
    "plt.xlabel('attention index')\n",
    "plt.ylabel('attention value')"
   ]
  },
  {
   "cell_type": "code",
   "execution_count": null,
   "metadata": {},
   "outputs": [],
   "source": []
  }
 ],
 "metadata": {
  "kernelspec": {
   "display_name": "Python 3",
   "language": "python",
   "name": "python3"
  },
  "language_info": {
   "codemirror_mode": {
    "name": "ipython",
    "version": 3
   },
   "file_extension": ".py",
   "mimetype": "text/x-python",
   "name": "python",
   "nbconvert_exporter": "python",
   "pygments_lexer": "ipython3",
   "version": "3.5.6"
  }
 },
 "nbformat": 4,
 "nbformat_minor": 2
}
