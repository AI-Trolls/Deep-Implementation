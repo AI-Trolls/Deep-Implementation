{
 "cells": [
  {
   "cell_type": "code",
   "execution_count": 1,
   "metadata": {},
   "outputs": [],
   "source": [
    "import tensorflow as tf\n",
    "from glob import glob\n",
    "import numpy as np\n",
    "from PIL import Image\n",
    "import matplotlib.pyplot as plt\n",
    "from random import shuffle\n",
    "import csv"
   ]
  },
  {
   "cell_type": "code",
   "execution_count": 2,
   "metadata": {},
   "outputs": [],
   "source": [
    "def _get_label_from_path(path):\n",
    "    return int(path.split('/')[-2])"
   ]
  },
  {
   "cell_type": "code",
   "execution_count": 3,
   "metadata": {},
   "outputs": [],
   "source": [
    "batch_size = 64"
   ]
  },
  {
   "cell_type": "code",
   "execution_count": 4,
   "metadata": {},
   "outputs": [],
   "source": [
    "image_list = glob('training_data/aligned_exo/*/*.png')\n",
    "shuffle(image_list)\n",
    "\n",
    "len_list = len(image_list)\n",
    "training_ratio = 0.7 # then, validation = 0.3\n",
    "break_idx = training_ratio * len_list\n",
    "\n",
    "f = open('training_data.csv', 'w', encoding='utf-8', newline='')\n",
    "wr = csv.writer(f)\n",
    "for idx, image in enumerate(image_list):\n",
    "    if idx >= break_idx:\n",
    "        break\n",
    "    label = _get_label_from_path(image)\n",
    "    #print (image, label)\n",
    "    wr.writerow([image, label])\n",
    "f.close()\n",
    "\n",
    "f = open('validation_data.csv', 'w', encoding='utf-8', newline='')\n",
    "wr = csv.writer(f)\n",
    "for idx, image in enumerate(image_list):\n",
    "    if idx < break_idx:\n",
    "        continue\n",
    "    label = _get_label_from_path(image)\n",
    "    #print (image, label)\n",
    "    wr.writerow([image, label])\n",
    "f.close()"
   ]
  },
  {
   "cell_type": "code",
   "execution_count": null,
   "metadata": {},
   "outputs": [],
   "source": []
  }
 ],
 "metadata": {
  "kernelspec": {
   "display_name": "Python 3",
   "language": "python",
   "name": "python3"
  },
  "language_info": {
   "codemirror_mode": {
    "name": "ipython",
    "version": 3
   },
   "file_extension": ".py",
   "mimetype": "text/x-python",
   "name": "python",
   "nbconvert_exporter": "python",
   "pygments_lexer": "ipython3",
   "version": "3.5.6"
  }
 },
 "nbformat": 4,
 "nbformat_minor": 2
}
